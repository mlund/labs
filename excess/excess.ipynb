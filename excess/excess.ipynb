{
 "cells": [
  {
   "cell_type": "markdown",
   "metadata": {},
   "source": [
    "# Monte Carlo Simulation Exercise:  Electrolyte Solutions\n",
    "\n",
    "_Mikael Lund, Division of Theoretical Chemistry, Lund university_\n",
    "\n",
    "## Introduction to Jupyter Notebooks\n",
    "\n",
    "This document is a _Notebook_ consisting of code, documentation, and plots, each listed in a _cell_.\n",
    "\n",
    "- Double click on a cell to edit it - try for example on this cell.\n",
    "- Evaluate an active cell by pressing `shift+return`.\n",
    "- The default cell language is Python, but by prefixing a command with `!`, it is interpreted as a BASH command.\n",
    "- For getting help on a function, place the cursor inside the `()` brackets and press `shift+tab-tab`.\n",
    "- More on text formatting, equations etc.\n",
    "  [here](https://athena.brynmawr.edu/jupyter/hub/dblank/public/Jupyter%20Notebook%20Users%20Manual.ipynb).\n",
    "- Try to evaluate the cell just below this one; it should show a short movie about Monte Carlo simulations.  \n",
    "\n",
    "### Download\n",
    "\n",
    "```bash\n",
    "    git clone http://github.com/mlund/labs\n",
    "    cd labs/excess\n",
    "```\n",
    "\n",
    "### Installation\n",
    "\n",
    "To open the Notebook, install python via [Miniconda](https://conda.io/miniconda.html) and make sure all required packages are loaded by issuing the following terminal commands,\n",
    "\n",
    "```bash\n",
    "    conda env create -f environment.yml\n",
    "    source activate excess\n",
    "    jupyter-notebook excess.ipynb\n",
    "```"
   ]
  },
  {
   "cell_type": "code",
   "execution_count": null,
   "metadata": {},
   "outputs": [],
   "source": [
    "# evaluate this cell to show a movie about MC\n",
    "from IPython.display import HTML\n",
    "HTML('<iframe width=\"560\" height=\"315\" src=\"https://www.youtube.com/embed/xVvUFB5Hk-g?rel=0&amp;controls=1&amp;showinfo=0\" frameborder=\"0\" allowfullscreen></iframe>')"
   ]
  },
  {
   "cell_type": "markdown",
   "metadata": {},
   "source": [
    "## Theory\n",
    "\n",
    "### Metropolis Monte Carlo Simulation\n",
    "_Litterature: Frenkel and Smith, Understanding Molecular Simulation_, Chapters 3 and 5.\n",
    "[[Open Access within LU]](http://ludwig.lub.lu.se/login?url=http://www.sciencedirect.com/science/book/9780122673511)\n",
    "\n",
    "Metropolis Monte Carlo is an importance sampling technique where we bias the otherwise random MC method to sample points in coordinate space that _contribute_ to properties of interest. In molecular systems, configurations (microstates) with energies much higher than the thermal energy, $k_BT$, have a very low probability due to the Boltzmann factor, $P(U) = \\exp(-U/k_BT)$, and therefore do not need to be frequently explored.\n",
    "In MC, we perform a finite number of _trial moves_ where the system is taken from on old state ($o$) to a new state ($n$) giving rise to an energy change $\\Delta U$.\n",
    "The move is accepted or rejected based in the following _acceptance criterion_,\n",
    "\n",
    "$$ \n",
    "acc(o\\rightarrow n) = \\min(1, e^{-\\Delta U/k_BT})\n",
    "$$\n",
    "\n",
    "which will ensure that low energy states are more likely to occur than high energy states. Thus, if the energy decreases ($e^{-\\Delta U/k_BT}>1$) the move is always accepted.\n",
    "Temperature and entropy enters the algorithm by allowing acceptance also for moves that leads to an energy _increase_.\n",
    "As $T\\rightarrow\\infty$, all configurations are accepted leading to equal population of all states.\n",
    "When $T\\rightarrow 0$ the system propagates towards a (local) minimum or ground state as expected from statistical thermodynamics.\n",
    "It is important to realize that the Metropolis MC algorithm only provide information on _equilibrium properties_.\n",
    "Thus from a MC simulation we cannot say anything about time-dependent or dynamic properties.\n",
    "\n",
    "In the MC program we will use in this lab, two moves are performed:\n",
    "\n",
    "1. Translational particle moves\n",
    "2. Particle insertion and deletion\n",
    "\n",
    "The first move we simply attempt to move a particle by changing its coordinates by a random unit vector, scaled by a _displacement parameter_. The second move is used to maintain a constant chemical potential of the salt particles so that we sample the _Grand Canonical Ensemble_ ($\\mu V T$).\n",
    "Here, each particle is associated with a chemical potential, $\\mu$, which contribute to the trial energy when deleting or inserting particles. The acceptance rules become,\n",
    "\n",
    "$$\n",
    "acc(N \\rightarrow N+1) = \\min \\left(1, \\frac{V}{N+1}e^{-(\\Delta U - \\mu)/k_BT}\\right )\n",
    "$$\n",
    "and\n",
    "$$\n",
    "acc(N \\rightarrow N-1) = \\min \\left(1, \\frac{N}{V}e^{-(\\Delta U+\\mu)/k_BT}\\right )\n",
    "$$\n",
    "\n",
    "The insertion/deletion move leads to a fluctuating number of particles in the simulation box, and we can therefore calculate an _average concentraion_. The ratio between this and the input activity gives us the _activity coefficient_ which is the topic of the next section.\n",
    "\n",
    "\n",
    "### Excess Chemical Potential\n",
    "\n",
    "In this lab you will use Metropolis Monte Carlo (MC) simulations to study properties of strong electrolyte solutions in water.\n",
    "We will use _the primitive model of electrolytes_ where solvent, water, is treated as a dielectric continuum and salt particles as hard spheres. The inter-particle pair-potential as a function is separation $r$ is given by,\n",
    "\n",
    "** Question: insert particle pair-potential here **\n",
    "\n",
    "When salt is added to water, it dissociates into cations and anions, and due to the long-range nature of electrostatics ($1/r$), these influence each other over long distances.\n",
    "The particles thus cannot be regarded as _ideal_ - especially as the concentration is increased.\n",
    "Non-ideality in chemical systems is captured by the _activity coefficient_, $\\gamma_i$, which is a measure of the chemical potential ($\\mu_i$) change due to interactions,\n",
    "\n",
    "$$\n",
    "\\mu_i = \\overbrace{ \\mu_i^{\\circ} + k_BT\\ln (N_i/V) }^{\\mbox{ideal}} + \\mu_i^{ex}\n",
    "$$\n",
    "\n",
    "Here, the first term is a reference state which can be arbitrarily defined, the second is from the translational partition function (ideal gas), and the third is the\n",
    "[_excess chemical potential_](https://en.wikipedia.org/wiki/Excess_chemical_potential),\n",
    "which is related to the activity coefficient,\n",
    "\n",
    "$$\n",
    "\\gamma_i = \\exp(\\mu_i^{ex}/k_BT) = a_c / c_i\n",
    "$$\n",
    "\n",
    "where $a_i$ is the _activity_.\n",
    "Recall that the chemical potential, $\\mu_i$, is the free energy associated with adding a single species, $i$ to the system, while keeping all others constant. In practice this is not possible for salts, as they always come as electroneutral pairs. Instead we can define a _mean activity coefficient_,\n",
    "\n",
    "$$\n",
    "\\gamma_{\\pm} = \\sqrt[q+p]{ \\gamma_M^p \\gamma_X^q}\n",
    "$$\n",
    "\n",
    "valid for salt compound $M_pX_q$. Hence, for NaCl, $\\gamma_{\\pm} = \\sqrt{\\gamma_{Na}\\gamma_{Cl}}$.\n",
    "\n",
    "** Question: **\n",
    "1. Give an expression for $\\gamma_{\\pm}$ for sodium sulphate?\n",
    "2. Give the equivalent expression for the _mean_ excess chemical potential, i.e. the free energy change of adding a single, electroneutral salt molecule. Simplify the expression as much as possible.\n",
    "\n",
    "### Statistical Mechanical Perturbation\n",
    "\n",
    "_Literature: D. McQuirrie, Chapter 14-1. [[Full text]](perturbationtheory.pdf) and B. Widom, \"Some Topics in the Theory of Fluids\" [[Full text]](http://dx.doi.org/10.1063/1.1734110)._\n",
    "\n",
    "Consider the Canonical Ensemble ($NVT$) where the potential energy function can be written as\n",
    "\n",
    "$U = U^0 + U^1$.\n",
    "\n",
    "$U^0$ is the energy of some unperturbed reference system, and $U^1$ is a small perturbation that will give us $U$. The configuational integral of the final system is\n",
    "\n",
    "$$\n",
    "Z = \\int e^{-\\beta (U^0 + U^1)} d\\mathcal{R}^N\n",
    "$$\n",
    "\n",
    "where the integral runs over all states and $\\beta=1/k_BT$. Likewise, the configurational integral of the unperturbed system is $Z^0=\\int e^{-\\beta U^0}d\\mathcal{R}^N$ and multiplying and dividing $Z$ with this we get,\n",
    "\n",
    "$$\n",
    "Z = \\int e^{-\\beta U^0} d\\mathcal{R}^N \\cdot \\frac{\\int e^{-\\beta U^0} e^{-\\beta U^1}  d\\mathcal{R}^N }{\\int e^{-\\beta U^0}d\\mathcal{R}^N}\n",
    "= Z^0 \\langle e^{-\\beta U^1} \\rangle_0\n",
    "$$\n",
    "\n",
    "That is, the configurational integral of the _final_ system can be obtained by averaging the exponential of the perturbation using configurations from the _unperturbed_ system (0). The Helmholtz free energy change associated with the perturbation naturally follows,\n",
    "\n",
    "$$\n",
    "\\Delta A = -k_BT \\ln (Z/Z_0) = -k_BT\\ln  \\langle e^{-\\beta U^1} \\rangle_0\n",
    "$$\n",
    "\n",
    "This important result is often used in MD/MC simulations to estimate free energy changes, for example the excess pressure by performing a _virtual volume move_ or the excess chemical potential by performing a _ghost particle insertion_.\n",
    "The latter is known as Widom particle insertion - see link above - and we will use this to calculate activity coefficients.\n",
    "As we already covered, the excess chemical potential, $\\mu_i^{ex}$, is the free energy _due to interactions_ upon inserting species $i$.\n",
    "During simulation we sample an unperturbed system (0) of $N$ particles and occacionally insert a ghost or virtual particle. Calculating the energy change of this process, $U^1=U-U^0$ we can thus estimate $\\mu^{ex}$. After the energy calculation, the particle is removed and it will not influence configurations of the reference system (0) which must remain _unperturbed_.\n",
    "\n",
    "**Questions:**\n",
    "1. Below you'll find a snapshot of the first page of Widom's article from 1963. Show explicitly how Eq. 1 leads to Eq. 2.\n",
    "\n",
    "2. Discuss the effectiveness of Widom's method if the system is dense.\n",
    "\n",
    "---\n",
    "_B. Widom, 1963:_\n",
    "![B. Widom 1963](widom1963.png)"
   ]
  },
  {
   "cell_type": "markdown",
   "metadata": {},
   "source": [
    "## Part I. Mean Activity Coefficients in Bulk Solution\n",
    "\n",
    "In this first part we estimate mean activity coefficients, $\\gamma_{\\pm}$, of salts in aqueous solution using MC simulation in the Grand Canonical ensemble simulations. In particular we will investigate the three salts in the table below and your task is to find the best parameters to describe the salt _guanidinium chloride_ (GdnCl).\n",
    "\n",
    "Salts     | Radius + (Å)     | Radius - (Å) | Exp. reference\n",
    "----------| ---------------- |--------------| ---------------\n",
    "NaCl      |  1.5             | 1.7          | RS (Robinson and Stokes)\n",
    "Na3Cit    |  1.5             | 2.8          | [Apelblat 2014](http://dx.doi.org/10.1007/978-3-319-11233-6)\n",
    "GdnCl     |  **?**           | **?**        | [Macaskill _et al_ 1977](http://dx.doi.org/10.1021/je60075a024)\n",
    "\n",
    "_Note:_ The experimental GdnCl data from the Macaskill reference is available in the file [`exp-gdncl-coeff.csv`](exp-gdncl-coeff.csv)."
   ]
  },
  {
   "cell_type": "markdown",
   "metadata": {},
   "source": [
    "### Import required python modules"
   ]
  },
  {
   "cell_type": "code",
   "execution_count": null,
   "metadata": {
    "collapsed": true
   },
   "outputs": [],
   "source": [
    "%matplotlib inline\n",
    "import matplotlib as mpl\n",
    "import matplotlib.pyplot as plt\n",
    "%matplotlib inline\n",
    "import numpy as np\n",
    "from math import sqrt, pi, exp\n",
    "import os.path, os, sys, json"
   ]
  },
  {
   "cell_type": "markdown",
   "metadata": {},
   "source": [
    "### Download and compile the MC software\n",
    "\n",
    "This will download and compile the free Monte Carlo software _Faunus_. It requires CMake and a reasonable modern C++ compiler (clang, gcc4.9+)"
   ]
  },
  {
   "cell_type": "code",
   "execution_count": null,
   "metadata": {
    "collapsed": true
   },
   "outputs": [],
   "source": [
    "%%bash\n",
    "echo 'fau_example(excess \"./\" excess.cpp)' > mc/CMakeLists.txt\n",
    "if [ ! -d \"faunus-1.0.0/\" ]; then\n",
    "    wget https://github.com/mlund/faunus/archive/v1.0.0.zip\n",
    "    unzip v1.0.0.zip\n",
    "    cd faunus-1.0.0\n",
    "else\n",
    "    cd faunus-1.0.0\n",
    "fi\n",
    "CXX=clang++ CC=clang cmake . -DCMAKE_BUILD_TYPE=Release -DMYPLAYGROUND=`pwd`/../mc #&>/dev/null\n",
    "make excess -j2\n",
    "cd .."
   ]
  },
  {
   "cell_type": "markdown",
   "metadata": {},
   "source": [
    "### Run Monte Carlo simulations\n",
    "\n",
    "The block below defines the properties of the salts you wish to investigate. If you are happy with the MC results fo a certain salt, set `run=False` in order to skip simulation runs in the next step (faster).\n",
    "\n",
    "** Tasks: **\n",
    "1. Go through and understand the input below. For more information about Faunus input, see\n",
    "[here](https://codedocs.xyz/mlund/faunus/inputoutput.html). In particular, test how to change the number of MC steps, change the displacement parameter, box length.\n",
    "2. Have a look at the main C++ file [`mc/excess.cpp`](mc/excess.cpp) and understand the program flow, energy setup etc."
   ]
  },
  {
   "cell_type": "code",
   "execution_count": null,
   "metadata": {
    "collapsed": true,
    "scrolled": false
   },
   "outputs": [],
   "source": [
    "def mkinput():\n",
    "    js = {\n",
    "            \"energy\": {\n",
    "                \"nonbonded\": { \"epsr\": 80 }\n",
    "            }, \n",
    "            \"moves\": {\n",
    "                \"atomtranslate\": { \"salt\": { \"permol\": True, \"prob\": 0.01 } }, \n",
    "                \"atomgc\": { \"molecule\": \"salt\" }\n",
    "            }, \n",
    "            \"system\": {\n",
    "                \"mcloop\"      : { \"macro\": 10, \"micro\": micro }, \n",
    "                \"geometry\"    : { \"length\": 80},\n",
    "                \"temperature\" : 298.15\n",
    "            },\n",
    "            \"analysis\": {\n",
    "                \"pqrfile\"   : { \"file\" : \"confout.pqr\" },\n",
    "                \"statefile\" : { \"file\" : \"state\"},\n",
    "                \"widom\" : { \"particles\":[\"CH4\"], \"ninsert\":10, \"nstep\":0   },\n",
    "                \"atomrdf\" : { \"nstep\":100, \"pairs\":\n",
    "                    [\n",
    "                       { \"name1\":\"M\", \"name2\":\"X\", \"dr\":0.1, \"file\":\"rdf.dat\"}\n",
    "                    ]\n",
    "                }\n",
    "            },\n",
    "            \"atomlist\": {\n",
    "                \"M\"   : { \"q\": 1.0,  \"r\": 1.5, \"dp\": 50, \"activity\": 0.1 }, \n",
    "                \"X\"   : { \"q\": -1.0, \"r\": 1.7, \"dp\": 50, \"activity\": 0.1 },\n",
    "                \"CH4\" : { \"q\":0.0, \"r\":2.0 }\n",
    "            },\n",
    "            \"moleculelist\": {\n",
    "                \"salt\": { \"Ninit\": 20, \"atomic\": True, \"atoms\": \"M X\" }\n",
    "            },\n",
    "    }\n",
    "    with open('excess.json', 'w+') as f:\n",
    "        f.write(json.dumps(js, indent=4))\n",
    "\n",
    "# equilibration run\n",
    "!rm -fR state\n",
    "micro=1000\n",
    "mkinput()\n",
    "!nice mc/excess > eq 2>&1 # output is redirected to file \"eq\"\n",
    "\n",
    "# production run\n",
    "micro=20000\n",
    "mkinput()\n",
    "!nice mc/excess   # output is shown below"
   ]
  },
  {
   "cell_type": "markdown",
   "metadata": {},
   "source": [
    "### Check MC output\n",
    "\n",
    "** Questions: **\n",
    "1. Investigate how the displacement parameter (`dp`) affects the translational move _acceptance_ and _mean aquare displacement_ (see output about \"Markov Move: Single Particle Translation\")\n",
    "\n",
    "2. Is there a best value for `dp`?\n",
    "\n",
    "2. How is the energy drift defined?\n",
    "\n",
    "3. Explain the difference between the $NPT$ and $\\mu VT$ ensembles."
   ]
  },
  {
   "cell_type": "markdown",
   "metadata": {},
   "source": [
    "### Plot mean activity coefficients\n",
    "\n",
    "For compound $M_pX_q$, the mean ionic activity coefficient is $ \\gamma_{\\pm} = \\sqrt[q+p]{ \\gamma_M^p \\gamma_X^q}$. Note that the experimental data is in _molality_, i.e. moles salt per kilo solvent and should in principle be converted to the molarity scale as outlined in i.e. Robinson and Stokes classic book. We ignore this here as the intended use for the model is for sub-molar concentrations. All salt concentrations are converted to the ionic strength, $I=\\frac{1}{2}\\sum c_i z_i^2$ where $c$ are molar concentrations, $z$ valencies.\n",
    "\n",
    "** Questions **\n",
    "1. Explain what the meaning of an activity coefficient below, equal to, and above unity.\n",
    "2. Below we have already tabulated simulation data for NaCl and Na3Cit using radii from the table above. For NaCl, verify that the first point ($c=0.1315$ mol/l) is correct by re-doing the simulation.\n",
    "1. Adjust the cation and anion radii for guanidinium chloride (GdnCl) to match experiment and add data points to the arrays below.\n",
    "2. Give a physical explanation for why hard sphere radii alters $\\gamma_{\\pm}.$ What physical features have we ignored?\n",
    "3. Discuss and explain the differences between the different salts.\n",
    "4. Why do the activity coefficients for NaCl tend to increase at high concentrations? "
   ]
  },
  {
   "cell_type": "code",
   "execution_count": null,
   "metadata": {
    "scrolled": true
   },
   "outputs": [],
   "source": [
    "def ionicstrength(c, n1, n2, z1, z2):\n",
    "    ''' function to calculate the ionic strength from concentration '''\n",
    "    c = np.array(c)\n",
    "    return 0.5*( n1*c*z1**2 + n2*c*z2**2 )\n",
    "\n",
    "# sodium chloride (simulation)\n",
    "\n",
    "C     = [ 0.1315, 0.4438,  0.7577, 1.0714, 1.37,   1.63,  1.89,   2.13] \n",
    "gamma = [ 0.76,   0.67595, 0.66,   0.65,   0.6568, 0.674, 0.6866, 0.705]\n",
    "I     = ionicstrength(C,1,1,1,1)\n",
    "plt.plot( I, gamma, 'o', color='blue', alpha=0.4, markersize=10)\n",
    "\n",
    "# sodium chloride (experiment)\n",
    "\n",
    "I, g = np.loadtxt('exp-nacl-coeff.csv', delimiter=',', skiprows=1, unpack=True)\n",
    "plt.plot( I, g, '-', lw=3, color='blue', label='NaCl')\n",
    "\n",
    "# sodium citrate (simulation)\n",
    "\n",
    "C     = [0.009, 0.04, 0.08,  0.131, 0.185, 0.24,  0.29, 0.355]\n",
    "gamma = [0.55,  0.37, 0.303, 0.267, 0.24,  0.223, 0.22, 0.211]\n",
    "I     = ionicstrength(C,3,1,1,3)\n",
    "plt.plot( I, gamma, 'o', color='red', alpha=0.4, markersize=10)\n",
    "\n",
    "# sodium citrate (experiment)\n",
    "\n",
    "I, g = np.loadtxt('exp-na3cit-coeff.csv', delimiter=',', skiprows=1, unpack=True)\n",
    "plt.plot( I, g, '-', lw=3, color='red', label=\"Na3Cit\")\n",
    "\n",
    "# guanidinium chloride (simulation)\n",
    "\n",
    "C     = [0] # add concentrations here (mol/l)\n",
    "gamma = [1] # add mean activity coefficients here\n",
    "I     = ionicstrength(C,1,1,1,1)\n",
    "plt.plot( I, gamma, 'o', color='green', alpha=0.4, markersize=10)\n",
    "\n",
    "# guanidinum chloride (experiment)\n",
    "\n",
    "I, g = np.loadtxt('exp-gdncl-coeff.csv', delimiter=',', skiprows=1, unpack=True)\n",
    "plt.plot( I, g, '-', lw=3, color='green', label='GdnCl')\n",
    "\n",
    "# prettify plot\n",
    "\n",
    "plt.legend(loc=0, frameon=False, ncol=3)\n",
    "plt.ylabel('Mean activity coefficient, $\\gamma_{\\pm}$')\n",
    "plt.xlabel('Ionic strength (mol/l)')\n",
    "plt.xlim((-0.1,2.0))\n",
    "#plt.ylim((0,0.9))\n",
    "plt.title('Experiment (lines) vs simulation (symbols)')"
   ]
  },
  {
   "cell_type": "markdown",
   "metadata": {},
   "source": [
    "### Ion-ion radial distribution function\n",
    "\n",
    "We now plot the radial distribution function, $g(r)$, between ions as sampled during MC simulation.\n",
    "This analysis is activated via the input in `analysis/atomrdf`.\n",
    "\n",
    "** Questions: **\n",
    "\n",
    "1. Explain the meaning and definition of $g(r).$\n",
    "\n",
    "2. Plot and discuss $g(r)$ for cation-anion and cation-anion. How are these influenced by ion radius?\n",
    "\n",
    "3. Discuss the differences between the three different salts. Focus on the cation-anion interaction.\n",
    "\n",
    "4. What happens to $g(r)$ as the concentration increases. Look i.e. at NaCl and explain.\n",
    "\n",
    "5. How is $g(r)$ affected by the box size? What happens at long separation, when $r$ exceeds half the box length?"
   ]
  },
  {
   "cell_type": "code",
   "execution_count": null,
   "metadata": {},
   "outputs": [],
   "source": [
    "r, g = np.loadtxt('rdf.dat', unpack=True)\n",
    "\n",
    "plt.plot(r, g)\n",
    "plt.xlim(2,20)\n",
    "plt.xlabel(u'$r$/Å')\n",
    "plt.ylabel(u'$g(r)$')\n",
    "plt.legend(loc=0, frameon=False)"
   ]
  },
  {
   "cell_type": "markdown",
   "metadata": {
    "collapsed": true
   },
   "source": [
    "### Widom Particle Insertion"
   ]
  },
  {
   "cell_type": "markdown",
   "metadata": {},
   "source": [
    "In the above, activity coefficients or excess chemical potentials of ions were calculated simply from the average ion density in the grand canonical ensemble where activities are known and constant. An alternative method is to use Widom particle insertion which we covered in the theory section above.\n",
    "In the MC code this can be done by activating an insertion analysis in the input file. The appropriate input is already there (`analysis->widom`) but the interval to which to run it, `nstep` is set to zero. Setting this to a positive integers will activate the sample.\n",
    "\n",
    "For example, if the number of MC steps, set by `macro=10` and `micro=1000`, then an `nstep=50` will lead to 200 calls to the Widom analysis. For each call you may specify how many times to insert a particle, `ninsert`, which will multiply the number of samples and thus improve statistics. For each insertion, a ghost particle is inserted at a random position and its energy is calculated, whereafter it is removed.\n",
    "\n",
    "** Questions: **\n",
    "\n",
    "1. For four different salt activities in the interval 50-300 mM, plot the activity coefficient of a neutral particle (add data to the arrays below).\n",
    "2. Repeat the above with a larger radius of the neutral particle.\n",
    "3. Discuss the results and estimate the so-called [Setschenow coefficient](https://en.wikipedia.org/wiki/Specific_ion_interaction_theory) which describes how the solubility of gasses is affected by electrolyte.\n",
    "4. How is the solubility of a greenhouse gas like methane affected by the salt content of the oceans?"
   ]
  },
  {
   "cell_type": "code",
   "execution_count": null,
   "metadata": {
    "collapsed": true
   },
   "outputs": [],
   "source": [
    "activity = [0] # salt activity. Add more...\n",
    "gamma = [1]    # activity coefficient of neutral species. Add more...\n",
    "\n",
    "plt.plot(activity, gamma, 'o', color='red')\n",
    "\n",
    "plt.xlabel(r'$a$ (mol/l)')\n",
    "plt.ylabel(r'$\\gamma$')"
   ]
  },
  {
   "cell_type": "markdown",
   "metadata": {
    "collapsed": true
   },
   "source": [
    "## Comments\n",
    "\n",
    "Please leave comments for how we may improve this lab in the future. What was good, what was bad? Did you find errors or unclear sections?"
   ]
  },
  {
   "cell_type": "code",
   "execution_count": null,
   "metadata": {
    "collapsed": true
   },
   "outputs": [],
   "source": []
  }
 ],
 "metadata": {
  "anaconda-cloud": {},
  "kernelspec": {
   "display_name": "Python 3",
   "language": "python",
   "name": "python3"
  },
  "language_info": {
   "codemirror_mode": {
    "name": "ipython",
    "version": 3
   },
   "file_extension": ".py",
   "mimetype": "text/x-python",
   "name": "python",
   "nbconvert_exporter": "python",
   "pygments_lexer": "ipython3",
   "version": "3.6.5"
  }
 },
 "nbformat": 4,
 "nbformat_minor": 1
}
